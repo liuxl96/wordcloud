{
 "cells": [
  {
   "cell_type": "code",
   "execution_count": 1,
   "metadata": {},
   "outputs": [],
   "source": [
    "from wordcloud import WordCloud\n",
    "import jieba\n",
    "import numpy as np"
   ]
  },
  {
   "cell_type": "code",
   "execution_count": 2,
   "metadata": {},
   "outputs": [],
   "source": [
    "#读取文本\n",
    "mytext = open('ch-demo.txt',encoding='utf-8').read()"
   ]
  },
  {
   "cell_type": "code",
   "execution_count": 3,
   "metadata": {},
   "outputs": [],
   "source": [
    "# #去除标点符号、换行符\n",
    "# punctuation = '，。？：、'\n",
    "# def removePunctuation(text):\n",
    "#     text = re.sub(r'[{}]+'.format(punctuation),'',text)\n",
    "#     return text.strip().lower()"
   ]
  },
  {
   "cell_type": "code",
   "execution_count": 4,
   "metadata": {},
   "outputs": [
    {
     "name": "stderr",
     "output_type": "stream",
     "text": [
      "Building prefix dict from the default dictionary ...\n",
      "Loading model from cache C:\\Users\\XIAOLI~1\\AppData\\Local\\Temp\\jieba.cache\n",
      "Loading model cost 0.703 seconds.\n",
      "Prefix dict has been built successfully.\n"
     ]
    },
    {
     "data": {
      "text/plain": [
       "'从 明天 起 ， 做 一个 幸福 的 人 ， \\n 喂 马 、 劈柴 ， 周游世界 ， \\n 从 明天 起 ， 关心 粮食 和 蔬菜 ， \\n 我 有 一所 房子 ， 面朝 大海 ， 春暖花开 。 \\n \\n 从 明天 起 ， 和 每 一个 亲人 通信 ， \\n 告诉 他们 我 的 幸福 ， \\n 那 幸福 的 闪电 告诉 我 的 ， \\n 我 将 告诉 每 一个 人 。 \\n \\n 给 每 一条 河 每 一座 山取 一个 温暖 的 名字 ， \\n 陌生人 ， 我 也 为 你 祝福 ， \\n 愿 你 有 一个 灿烂 的 前程 ， \\n 愿 你 有情人终成眷属 ， \\n 愿 你 在 尘世 获得 幸福 ， \\n 我 只 愿 面朝 大海 ， 春暖花开 。'"
      ]
     },
     "execution_count": 4,
     "metadata": {},
     "output_type": "execute_result"
    }
   ],
   "source": [
    "#未去停用词的分词\n",
    "mytext = \" \".join(jieba.cut(mytext))\n",
    "mytext"
   ]
  },
  {
   "cell_type": "code",
   "execution_count": 5,
   "metadata": {
    "scrolled": true
   },
   "outputs": [],
   "source": [
    "# mytext = removePunctuation(mytext)\n",
    "# mytext = mytext.replace('\\n', '')\n",
    "# mytext"
   ]
  },
  {
   "cell_type": "code",
   "execution_count": 6,
   "metadata": {},
   "outputs": [],
   "source": [
    "w = WordCloud(width=500,\n",
    "              height=400,\n",
    "              background_color='black',\n",
    "              font_path='msyh.ttc',\n",
    "             stopwords=[line.strip() for line in open('ch_stopwords.txt', encoding='UTF-8').readlines()]).generate(mytext);"
   ]
  },
  {
   "cell_type": "code",
   "execution_count": 7,
   "metadata": {},
   "outputs": [
    {
     "data": {
      "text/plain": [
       "<wordcloud.wordcloud.WordCloud at 0x1db71398688>"
      ]
     },
     "execution_count": 7,
     "metadata": {},
     "output_type": "execute_result"
    }
   ],
   "source": [
    "w.to_file('ch_output.png')"
   ]
  },
  {
   "cell_type": "code",
   "execution_count": null,
   "metadata": {},
   "outputs": [],
   "source": []
  }
 ],
 "metadata": {
  "kernelspec": {
   "display_name": "Python 3.7.7 64-bit ('python37': conda)",
   "language": "python",
   "name": "python37764bitpython37condab189e830623d403c8f81dafb63c82956"
  },
  "language_info": {
   "codemirror_mode": {
    "name": "ipython",
    "version": 3
   },
   "file_extension": ".py",
   "mimetype": "text/x-python",
   "name": "python",
   "nbconvert_exporter": "python",
   "pygments_lexer": "ipython3",
   "version": "3.7.7"
  }
 },
 "nbformat": 4,
 "nbformat_minor": 4
}
