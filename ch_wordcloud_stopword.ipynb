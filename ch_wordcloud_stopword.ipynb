{
 "cells": [
  {
   "cell_type": "code",
   "execution_count": 21,
   "metadata": {},
   "outputs": [],
   "source": [
    "# 适用于对中英文分词，且已去除停留词"
   ]
  },
  {
   "cell_type": "code",
   "execution_count": 6,
   "metadata": {},
   "outputs": [],
   "source": [
    "from wordcloud import WordCloud\n",
    "import jieba"
   ]
  },
  {
   "cell_type": "code",
   "execution_count": 7,
   "metadata": {},
   "outputs": [],
   "source": [
    "#读取文本\n",
    "mytext = open('text\\ch-demo.txt',encoding='utf-8').read()"
   ]
  },
  {
   "cell_type": "code",
   "execution_count": 8,
   "metadata": {},
   "outputs": [
    {
     "data": {
      "text/plain": [
       "'从 明天 起 ， 做 一个 幸福 的 人 ， \\n 喂 马 、 劈柴 ， 周游世界 ， \\n 从 明天 起 ， 关心 粮食 和 蔬菜 ， \\n 我 有 一所 房子 ， 面朝 大海 ， 春暖花开 。 \\n \\n 从 明天 起 ， 和 每 一个 亲人 通信 ， \\n 告诉 他们 我 的 幸福 ， \\n 那 幸福 的 闪电 告诉 我 的 ， \\n 我 将 告诉 每 一个 人 。 \\n \\n 给 每 一条 河 每 一座 山取 一个 温暖 的 名字 ， \\n 陌生人 ， 我 也 为 你 祝福 ， \\n 愿 你 有 一个 灿烂 的 前程 ， \\n 愿 你 有情人终成眷属 ， \\n 愿 你 在 尘世 获得 幸福 ， \\n 我 只 愿 面朝 大海 ， 春暖花开 。'"
      ]
     },
     "execution_count": 8,
     "metadata": {},
     "output_type": "execute_result"
    }
   ],
   "source": [
    "#未去停用词的分词\n",
    "mytext = \" \".join(jieba.cut(mytext))\n",
    "mytext"
   ]
  },
  {
   "cell_type": "code",
   "execution_count": 9,
   "metadata": {},
   "outputs": [],
   "source": [
    "#停留词ch_stopwords.txt采用哈工大停留词表\n",
    "w = WordCloud(width=500,\n",
    "              height=400,\n",
    "              background_color='black',\n",
    "              font_path='msyh.ttc',\n",
    "             stopwords=[line.strip() for line in open('text\\ch_stopwords.txt', encoding='UTF-8').readlines()]).generate(mytext);"
   ]
  },
  {
   "cell_type": "code",
   "execution_count": 10,
   "metadata": {},
   "outputs": [
    {
     "data": {
      "text/plain": [
       "<wordcloud.wordcloud.WordCloud at 0x215c43da8c8>"
      ]
     },
     "execution_count": 10,
     "metadata": {},
     "output_type": "execute_result"
    }
   ],
   "source": [
    "w.to_file('output\\ch_output.png')"
   ]
  },
  {
   "cell_type": "code",
   "execution_count": null,
   "metadata": {},
   "outputs": [],
   "source": []
  }
 ],
 "metadata": {
  "kernelspec": {
   "display_name": "Python 3.7.7 64-bit ('python37': conda)",
   "language": "python",
   "name": "python37764bitpython37condab189e830623d403c8f81dafb63c82956"
  },
  "language_info": {
   "codemirror_mode": {
    "name": "ipython",
    "version": 3
   },
   "file_extension": ".py",
   "mimetype": "text/x-python",
   "name": "python",
   "nbconvert_exporter": "python",
   "pygments_lexer": "ipython3",
   "version": "3.7.7"
  }
 },
 "nbformat": 4,
 "nbformat_minor": 4
}
